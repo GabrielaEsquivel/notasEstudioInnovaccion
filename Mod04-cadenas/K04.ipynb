{
 "cells": [
  {
   "cell_type": "markdown",
   "metadata": {},
   "source": [
    "## Kata 04\n",
    "Cadenas"
   ]
  },
  {
   "cell_type": "markdown",
   "metadata": {},
   "source": [
    "Ejercicio 01: Transformar cadenas\n",
    " En este ejercicio, usarás métodos de cadena para modificar el texto con hechos sobre la Luna y luego extraerás información para crear un breve resumen."
   ]
  },
  {
   "cell_type": "code",
   "execution_count": 7,
   "metadata": {},
   "outputs": [
    {
     "name": "stdout",
     "output_type": "stream",
     "text": [
      "['Interesting facts about the Moon', \"The Moon is Earth's only satellite\", 'There are several interesting facts about the Moon and how it affects life here on Earth', 'On average, the Moon moves 4cm away from the Earth every year', 'This yearly drift is not significant enough to cause immediate effects on Earth', 'The highest daylight temperature of the Moon is 127 C.']\n"
     ]
    }
   ],
   "source": [
    "# Añade el código necesario\n",
    "\n",
    "text = \"\"\"Interesting facts about the Moon. The Moon is Earth's only satellite. There are several interesting facts about the Moon and how it affects life here on Earth. \n",
    "On average, the Moon moves 4cm away from the Earth every year. This yearly drift is not significant enough to cause immediate effects on Earth. The highest daylight temperature of the Moon is 127 C.\"\"\"\n",
    "\n",
    "textMultiline =\"\"\"Interesting facts about the Moon.\\nThe Moon is Earth's only satellite.\\nThere are several interesting facts about the Moon and how it affects life here on Earth.\\nOn average, the Moon moves 4cm away from the Earth every year.\\nThis yearly drift is not significant enough to cause immediate effects on Earth.\\nThe highest daylight temperature of the Moon is 127 C.\"\"\"\n",
    "\n",
    "#print(textMultiline)\n",
    "\n",
    "sentences = textMultiline.split('.\\n')\n",
    "\n",
    "print(sentences)\n",
    "\n",
    "\n"
   ]
  },
  {
   "cell_type": "code",
   "execution_count": 41,
   "metadata": {},
   "outputs": [
    {
     "name": "stdout",
     "output_type": "stream",
     "text": [
      "///////// Ejemplo Desarrollador\n",
      "On average, the Moon moves 4cm away from the Earth every year\n",
      "The highest daylight temperature of the Moon is 127 C.\n",
      "////////// Replace C \n",
      "The highest daylight temperature of the Moon is 127 Celsius.\n"
     ]
    }
   ],
   "source": [
    "# Añade el código necesario\n",
    "\n",
    "text = \"\"\"Interesting facts about the Moon. The Moon is Earth's only satellite. There are several interesting facts about the Moon and how it affects life here on Earth. \n",
    "On average, the Moon moves 4cm away from the Earth every year. This yearly drift is not significant enough to cause immediate effects on Earth. The highest daylight temperature of the Moon is 127 C.\"\"\"\n",
    "\n",
    "textMultiline =\"\"\"Interesting facts about the Moon.\\nThe Moon is Earth's only satellite.\\nThere are several interesting facts about the Moon and how it affects life here on Earth.\\nOn average, the Moon moves 4cm away from the Earth every year.\\nThis yearly drift is not significant enough to cause immediate effects on Earth.\\nThe highest daylight temperature of the Moon is 127 C.\"\"\"\n",
    "\n",
    "sentences = textMultiline.split('.\\n')\n",
    "\n",
    "# Define las palabras pista: average, temperature y distance suenan bien\n",
    "avg = 'average'\n",
    "distance = 'distance'\n",
    "temperature = 'temperature'\n",
    "\n",
    "print(\"///////// Ejemplo Desarrollador\")\n",
    "for sentence in sentences:\n",
    "    if avg in sentence or distance in sentence or temperature in sentence:\n",
    "        print(sentence)\n",
    "\n",
    "print('////////// Replace C ')\n",
    "for sentence in sentences:\n",
    "    if temperature in sentence and sentence.find('C'):\n",
    "        print(sentence.replace('C','Celsius'))\n",
    "\n",
    "\n",
    "\n",
    "\n",
    "    "
   ]
  },
  {
   "cell_type": "code",
   "execution_count": null,
   "metadata": {},
   "outputs": [],
   "source": [
    "# Para el desarrollador, otra manera de hacerlo:\n",
    "\n",
    "words = ['average', 'distance', 'temperature']\n",
    "\n",
    "print(\"///////// Ejemplo Kata\")\n",
    "for sentence in sentences:\n",
    "    for word in words:\n",
    "        if word in sentence:\n",
    "            print(sentence)\n",
    "            break\n"
   ]
  },
  {
   "cell_type": "markdown",
   "metadata": {},
   "source": [
    "Formatear cadenas\n",
    "Tarea 02: \n",
    "En este ejercicio, se utilizan variables que contienen datos clave sobre la gravedad en varias lunas y luego se utilizan para dar formato e imprimir la información.\n",
    "\n",
    "El formato tiene que acomodar información sobre otras lunas, por lo que debe ser genérico.\n",
    "\n",
    "En lugar de reemplazar las variables en una cadena larga como parte de un párrafo, utiliza la información para presentarla en un formato tabular. "
   ]
  },
  {
   "cell_type": "code",
   "execution_count": 40,
   "metadata": {},
   "outputs": [
    {
     "name": "stdout",
     "output_type": "stream",
     "text": [
      "Gravedad En El Planeta Earth Y Moon\n",
      "________________________________________\n",
      "Planet name: Earth\n",
      "Gravity on Ganymede: 1.6199999999999999 m/s2\n"
     ]
    }
   ],
   "source": [
    "# Datos con los que vas a trabajar\n",
    "name = \"Moon\"\n",
    "gravity = 0.00162 # in kms\n",
    "planet = \"Earth\"\n",
    "\n",
    "# creamos titulo\n",
    "title = f'Gravedad en el planeta {planet} y {name}'.title()\n",
    "\n",
    "plantilla= f\"\"\"\n",
    "________________________________________\n",
    "Planet name: {planet}\n",
    "Gravity on Ganymede: {gravity*1000} m/s2\"\"\"\n",
    "\n",
    "\n",
    "info = title + plantilla\n",
    "\n",
    "print(info)\n",
    "\n",
    "\n"
   ]
  },
  {
   "cell_type": "code",
   "execution_count": 39,
   "metadata": {},
   "outputs": [
    {
     "name": "stdout",
     "output_type": "stream",
     "text": [
      "Gravedad En El Planeta Earth Y Moon\n",
      "_______________________________\n",
      "Planet name: Earth\n",
      "Gravity on Ganymede: 1.6199999999999999 m/s2\n"
     ]
    }
   ],
   "source": [
    "# Datos con los que vas a trabajar\n",
    "name = \"Ganímedes\"\n",
    "gravity = 0.00143 # in kms\n",
    "planet = \"Marte\"\n",
    "\n",
    "print(info)"
   ]
  },
  {
   "cell_type": "code",
   "execution_count": 2,
   "metadata": {},
   "outputs": [
    {
     "name": "stdout",
     "output_type": "stream",
     "text": [
      " Gravedad en el planeta Marte y Ganímedes\n",
      "________________________________________\n",
      "Planet name: Marte\n",
      "Gravity on Ganymede: 1.4300000000000002 m/s2\n"
     ]
    }
   ],
   "source": [
    "# Rehacer plantilla con .format()\n",
    "nuevaPlantilla = \"\"\" Gravedad en el planeta {planet} y {name}\n",
    "________________________________________\n",
    "Planet name: {planet}\n",
    "Gravity on Ganymede: {gravity} m/s2\"\"\"\n",
    "\n",
    "print(nuevaPlantilla.format(planet=\"Marte\", gravity=0.00143*1000, name=\"Ganímedes\"))"
   ]
  }
 ],
 "metadata": {
  "interpreter": {
   "hash": "aee8b7b246df8f9039afb4144a1f6fd8d2ca17a180786b69acc140d282b71a49"
  },
  "kernelspec": {
   "display_name": "Python 3.10.2 64-bit",
   "language": "python",
   "name": "python3"
  },
  "language_info": {
   "codemirror_mode": {
    "name": "ipython",
    "version": 3
   },
   "file_extension": ".py",
   "mimetype": "text/x-python",
   "name": "python",
   "nbconvert_exporter": "python",
   "pygments_lexer": "ipython3",
   "version": "3.10.2"
  },
  "orig_nbformat": 4
 },
 "nbformat": 4,
 "nbformat_minor": 2
}
